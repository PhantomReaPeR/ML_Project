{
  "cells": [
    {
      "cell_type": "markdown",
      "metadata": {
        "id": "view-in-github",
        "colab_type": "text"
      },
      "source": [
        "<a href=\"https://colab.research.google.com/github/PhantomReaPeR/ML_Project/blob/main/heart_disease_problem.ipynb\" target=\"_parent\"><img src=\"https://colab.research.google.com/assets/colab-badge.svg\" alt=\"Open In Colab\"/></a>"
      ]
    },
    {
      "cell_type": "markdown",
      "id": "c0603256",
      "metadata": {
        "papermill": {
          "duration": 0.012535,
          "end_time": "2023-07-30T21:18:15.562252",
          "exception": false,
          "start_time": "2023-07-30T21:18:15.549717",
          "status": "completed"
        },
        "tags": [],
        "id": "c0603256"
      },
      "source": [
        "# **HEART DISEASE PREDICTION ML PROJECT**\n",
        "In this ML Project I used 3 Different Types of ML model -\n",
        "1.  K-Nearest Neighbors Algorithm\n",
        "2.  Decision Tress Classifier\n",
        "3.  Naive Bayes.\n"
      ]
    },
    {
      "cell_type": "markdown",
      "id": "a4560db9",
      "metadata": {
        "papermill": {
          "duration": 0.011463,
          "end_time": "2023-07-30T21:18:15.585138",
          "exception": false,
          "start_time": "2023-07-30T21:18:15.573675",
          "status": "completed"
        },
        "tags": [],
        "id": "a4560db9"
      },
      "source": [
        "## INDEX"
      ]
    },
    {
      "cell_type": "markdown",
      "id": "83debb0f",
      "metadata": {
        "papermill": {
          "duration": 0.010665,
          "end_time": "2023-07-30T21:18:15.606941",
          "exception": false,
          "start_time": "2023-07-30T21:18:15.596276",
          "status": "completed"
        },
        "tags": [],
        "id": "83debb0f"
      },
      "source": [
        "## 1. Data Preprocessing\n",
        "## 2. Exploratory Data Analysis (EDA)\n",
        "## 3. Model Implementation\n",
        "## 4. Model Evaluation\n",
        "## 5. Cross Validation"
      ]
    },
    {
      "cell_type": "markdown",
      "id": "17e3dc1d",
      "metadata": {
        "papermill": {
          "duration": 0.010678,
          "end_time": "2023-07-30T21:18:15.628672",
          "exception": false,
          "start_time": "2023-07-30T21:18:15.617994",
          "status": "completed"
        },
        "tags": [],
        "id": "17e3dc1d"
      },
      "source": [
        "## **1. Data Processsing**"
      ]
    },
    {
      "cell_type": "markdown",
      "id": "42ed672b",
      "metadata": {
        "papermill": {
          "duration": 0.011184,
          "end_time": "2023-07-30T21:18:15.782781",
          "exception": false,
          "start_time": "2023-07-30T21:18:15.771597",
          "status": "completed"
        },
        "tags": [],
        "id": "42ed672b"
      },
      "source": [
        "* Import Library"
      ]
    },
    {
      "cell_type": "code",
      "source": [
        "import pandas as pd\n",
        "import numpy as np\n",
        "import matplotlib.pyplot as plt\n",
        "import seaborn as sns\n",
        "from sklearn.preprocessing import LabelEncoder\n",
        "from sklearn.model_selection import train_test_split\n",
        "from sklearn.neighbors import KNeighborsClassifier\n",
        "from sklearn.tree import DecisionTreeClassifier\n",
        "from sklearn.naive_bayes import GaussianNB\n",
        "from sklearn.metrics import accuracy_score,precision_score,recall_score,f1_score,confusion_matrix"
      ],
      "metadata": {
        "id": "Zitm5D4Aa0xP"
      },
      "id": "Zitm5D4Aa0xP",
      "execution_count": 2,
      "outputs": []
    },
    {
      "cell_type": "markdown",
      "source": [
        "* Loading Data Set"
      ],
      "metadata": {
        "id": "hPT0YfoFbCVp"
      },
      "id": "hPT0YfoFbCVp"
    },
    {
      "cell_type": "code",
      "execution_count": 3,
      "id": "9f5e87dd",
      "metadata": {
        "execution": {
          "iopub.execute_input": "2023-07-30T21:18:15.652887Z",
          "iopub.status.busy": "2023-07-30T21:18:15.652217Z",
          "iopub.status.idle": "2023-07-30T21:18:15.675456Z",
          "shell.execute_reply": "2023-07-30T21:18:15.674442Z"
        },
        "papermill": {
          "duration": 0.038171,
          "end_time": "2023-07-30T21:18:15.677984",
          "exception": false,
          "start_time": "2023-07-30T21:18:15.639813",
          "status": "completed"
        },
        "tags": [],
        "id": "9f5e87dd"
      },
      "outputs": [],
      "source": [
        "heart = pd.read_csv(\"https://raw.githubusercontent.com/PhantomReaPeR/ML_Project/main/Data_of_ML/heart.csv\")"
      ]
    },
    {
      "cell_type": "code",
      "execution_count": 4,
      "id": "df95ba2a",
      "metadata": {
        "execution": {
          "iopub.execute_input": "2023-07-30T21:18:15.702601Z",
          "iopub.status.busy": "2023-07-30T21:18:15.702232Z",
          "iopub.status.idle": "2023-07-30T21:18:15.709335Z",
          "shell.execute_reply": "2023-07-30T21:18:15.708261Z"
        },
        "papermill": {
          "duration": 0.021507,
          "end_time": "2023-07-30T21:18:15.711417",
          "exception": false,
          "start_time": "2023-07-30T21:18:15.689910",
          "status": "completed"
        },
        "tags": [],
        "colab": {
          "base_uri": "https://localhost:8080/"
        },
        "id": "df95ba2a",
        "outputId": "cd0c8b97-f2cf-4ac4-dae6-2dbfd88d967a"
      },
      "outputs": [
        {
          "output_type": "execute_result",
          "data": {
            "text/plain": [
              "(1025, 14)"
            ]
          },
          "metadata": {},
          "execution_count": 4
        }
      ],
      "source": [
        "heart.shape"
      ]
    },
    {
      "cell_type": "code",
      "execution_count": 5,
      "id": "4ac728c4",
      "metadata": {
        "execution": {
          "iopub.execute_input": "2023-07-30T21:18:15.736231Z",
          "iopub.status.busy": "2023-07-30T21:18:15.735832Z",
          "iopub.status.idle": "2023-07-30T21:18:15.757538Z",
          "shell.execute_reply": "2023-07-30T21:18:15.756440Z"
        },
        "papermill": {
          "duration": 0.037111,
          "end_time": "2023-07-30T21:18:15.759732",
          "exception": false,
          "start_time": "2023-07-30T21:18:15.722621",
          "status": "completed"
        },
        "tags": [],
        "colab": {
          "base_uri": "https://localhost:8080/",
          "height": 206
        },
        "id": "4ac728c4",
        "outputId": "dd516f4c-8c8c-40ac-a1d0-3e43f825e923"
      },
      "outputs": [
        {
          "output_type": "execute_result",
          "data": {
            "text/plain": [
              "   age  sex  cp  trestbps  chol  fbs  restecg  thalach  exang  oldpeak  slope  \\\n",
              "0   52    1   0       125   212    0        1      168      0      1.0      2   \n",
              "1   53    1   0       140   203    1        0      155      1      3.1      0   \n",
              "2   70    1   0       145   174    0        1      125      1      2.6      0   \n",
              "3   61    1   0       148   203    0        1      161      0      0.0      2   \n",
              "4   62    0   0       138   294    1        1      106      0      1.9      1   \n",
              "\n",
              "   ca  thal  target  \n",
              "0   2     3       0  \n",
              "1   0     3       0  \n",
              "2   0     3       0  \n",
              "3   1     3       0  \n",
              "4   3     2       0  "
            ],
            "text/html": [
              "\n",
              "\n",
              "  <div id=\"df-e46326fb-0e22-4cf6-a12d-59c3584b3530\">\n",
              "    <div class=\"colab-df-container\">\n",
              "      <div>\n",
              "<style scoped>\n",
              "    .dataframe tbody tr th:only-of-type {\n",
              "        vertical-align: middle;\n",
              "    }\n",
              "\n",
              "    .dataframe tbody tr th {\n",
              "        vertical-align: top;\n",
              "    }\n",
              "\n",
              "    .dataframe thead th {\n",
              "        text-align: right;\n",
              "    }\n",
              "</style>\n",
              "<table border=\"1\" class=\"dataframe\">\n",
              "  <thead>\n",
              "    <tr style=\"text-align: right;\">\n",
              "      <th></th>\n",
              "      <th>age</th>\n",
              "      <th>sex</th>\n",
              "      <th>cp</th>\n",
              "      <th>trestbps</th>\n",
              "      <th>chol</th>\n",
              "      <th>fbs</th>\n",
              "      <th>restecg</th>\n",
              "      <th>thalach</th>\n",
              "      <th>exang</th>\n",
              "      <th>oldpeak</th>\n",
              "      <th>slope</th>\n",
              "      <th>ca</th>\n",
              "      <th>thal</th>\n",
              "      <th>target</th>\n",
              "    </tr>\n",
              "  </thead>\n",
              "  <tbody>\n",
              "    <tr>\n",
              "      <th>0</th>\n",
              "      <td>52</td>\n",
              "      <td>1</td>\n",
              "      <td>0</td>\n",
              "      <td>125</td>\n",
              "      <td>212</td>\n",
              "      <td>0</td>\n",
              "      <td>1</td>\n",
              "      <td>168</td>\n",
              "      <td>0</td>\n",
              "      <td>1.0</td>\n",
              "      <td>2</td>\n",
              "      <td>2</td>\n",
              "      <td>3</td>\n",
              "      <td>0</td>\n",
              "    </tr>\n",
              "    <tr>\n",
              "      <th>1</th>\n",
              "      <td>53</td>\n",
              "      <td>1</td>\n",
              "      <td>0</td>\n",
              "      <td>140</td>\n",
              "      <td>203</td>\n",
              "      <td>1</td>\n",
              "      <td>0</td>\n",
              "      <td>155</td>\n",
              "      <td>1</td>\n",
              "      <td>3.1</td>\n",
              "      <td>0</td>\n",
              "      <td>0</td>\n",
              "      <td>3</td>\n",
              "      <td>0</td>\n",
              "    </tr>\n",
              "    <tr>\n",
              "      <th>2</th>\n",
              "      <td>70</td>\n",
              "      <td>1</td>\n",
              "      <td>0</td>\n",
              "      <td>145</td>\n",
              "      <td>174</td>\n",
              "      <td>0</td>\n",
              "      <td>1</td>\n",
              "      <td>125</td>\n",
              "      <td>1</td>\n",
              "      <td>2.6</td>\n",
              "      <td>0</td>\n",
              "      <td>0</td>\n",
              "      <td>3</td>\n",
              "      <td>0</td>\n",
              "    </tr>\n",
              "    <tr>\n",
              "      <th>3</th>\n",
              "      <td>61</td>\n",
              "      <td>1</td>\n",
              "      <td>0</td>\n",
              "      <td>148</td>\n",
              "      <td>203</td>\n",
              "      <td>0</td>\n",
              "      <td>1</td>\n",
              "      <td>161</td>\n",
              "      <td>0</td>\n",
              "      <td>0.0</td>\n",
              "      <td>2</td>\n",
              "      <td>1</td>\n",
              "      <td>3</td>\n",
              "      <td>0</td>\n",
              "    </tr>\n",
              "    <tr>\n",
              "      <th>4</th>\n",
              "      <td>62</td>\n",
              "      <td>0</td>\n",
              "      <td>0</td>\n",
              "      <td>138</td>\n",
              "      <td>294</td>\n",
              "      <td>1</td>\n",
              "      <td>1</td>\n",
              "      <td>106</td>\n",
              "      <td>0</td>\n",
              "      <td>1.9</td>\n",
              "      <td>1</td>\n",
              "      <td>3</td>\n",
              "      <td>2</td>\n",
              "      <td>0</td>\n",
              "    </tr>\n",
              "  </tbody>\n",
              "</table>\n",
              "</div>\n",
              "      <button class=\"colab-df-convert\" onclick=\"convertToInteractive('df-e46326fb-0e22-4cf6-a12d-59c3584b3530')\"\n",
              "              title=\"Convert this dataframe to an interactive table.\"\n",
              "              style=\"display:none;\">\n",
              "\n",
              "  <svg xmlns=\"http://www.w3.org/2000/svg\" height=\"24px\"viewBox=\"0 0 24 24\"\n",
              "       width=\"24px\">\n",
              "    <path d=\"M0 0h24v24H0V0z\" fill=\"none\"/>\n",
              "    <path d=\"M18.56 5.44l.94 2.06.94-2.06 2.06-.94-2.06-.94-.94-2.06-.94 2.06-2.06.94zm-11 1L8.5 8.5l.94-2.06 2.06-.94-2.06-.94L8.5 2.5l-.94 2.06-2.06.94zm10 10l.94 2.06.94-2.06 2.06-.94-2.06-.94-.94-2.06-.94 2.06-2.06.94z\"/><path d=\"M17.41 7.96l-1.37-1.37c-.4-.4-.92-.59-1.43-.59-.52 0-1.04.2-1.43.59L10.3 9.45l-7.72 7.72c-.78.78-.78 2.05 0 2.83L4 21.41c.39.39.9.59 1.41.59.51 0 1.02-.2 1.41-.59l7.78-7.78 2.81-2.81c.8-.78.8-2.07 0-2.86zM5.41 20L4 18.59l7.72-7.72 1.47 1.35L5.41 20z\"/>\n",
              "  </svg>\n",
              "      </button>\n",
              "\n",
              "\n",
              "\n",
              "    <div id=\"df-9240a92b-63d7-4936-a372-1740ddd77256\">\n",
              "      <button class=\"colab-df-quickchart\" onclick=\"quickchart('df-9240a92b-63d7-4936-a372-1740ddd77256')\"\n",
              "              title=\"Suggest charts.\"\n",
              "              style=\"display:none;\">\n",
              "\n",
              "<svg xmlns=\"http://www.w3.org/2000/svg\" height=\"24px\"viewBox=\"0 0 24 24\"\n",
              "     width=\"24px\">\n",
              "    <g>\n",
              "        <path d=\"M19 3H5c-1.1 0-2 .9-2 2v14c0 1.1.9 2 2 2h14c1.1 0 2-.9 2-2V5c0-1.1-.9-2-2-2zM9 17H7v-7h2v7zm4 0h-2V7h2v10zm4 0h-2v-4h2v4z\"/>\n",
              "    </g>\n",
              "</svg>\n",
              "      </button>\n",
              "    </div>\n",
              "\n",
              "<style>\n",
              "  .colab-df-quickchart {\n",
              "    background-color: #E8F0FE;\n",
              "    border: none;\n",
              "    border-radius: 50%;\n",
              "    cursor: pointer;\n",
              "    display: none;\n",
              "    fill: #1967D2;\n",
              "    height: 32px;\n",
              "    padding: 0 0 0 0;\n",
              "    width: 32px;\n",
              "  }\n",
              "\n",
              "  .colab-df-quickchart:hover {\n",
              "    background-color: #E2EBFA;\n",
              "    box-shadow: 0px 1px 2px rgba(60, 64, 67, 0.3), 0px 1px 3px 1px rgba(60, 64, 67, 0.15);\n",
              "    fill: #174EA6;\n",
              "  }\n",
              "\n",
              "  [theme=dark] .colab-df-quickchart {\n",
              "    background-color: #3B4455;\n",
              "    fill: #D2E3FC;\n",
              "  }\n",
              "\n",
              "  [theme=dark] .colab-df-quickchart:hover {\n",
              "    background-color: #434B5C;\n",
              "    box-shadow: 0px 1px 3px 1px rgba(0, 0, 0, 0.15);\n",
              "    filter: drop-shadow(0px 1px 2px rgba(0, 0, 0, 0.3));\n",
              "    fill: #FFFFFF;\n",
              "  }\n",
              "</style>\n",
              "\n",
              "    <script>\n",
              "      async function quickchart(key) {\n",
              "        const containerElement = document.querySelector('#' + key);\n",
              "        const charts = await google.colab.kernel.invokeFunction(\n",
              "            'suggestCharts', [key], {});\n",
              "      }\n",
              "    </script>\n",
              "\n",
              "      <script>\n",
              "\n",
              "function displayQuickchartButton(domScope) {\n",
              "  let quickchartButtonEl =\n",
              "    domScope.querySelector('#df-9240a92b-63d7-4936-a372-1740ddd77256 button.colab-df-quickchart');\n",
              "  quickchartButtonEl.style.display =\n",
              "    google.colab.kernel.accessAllowed ? 'block' : 'none';\n",
              "}\n",
              "\n",
              "        displayQuickchartButton(document);\n",
              "      </script>\n",
              "      <style>\n",
              "    .colab-df-container {\n",
              "      display:flex;\n",
              "      flex-wrap:wrap;\n",
              "      gap: 12px;\n",
              "    }\n",
              "\n",
              "    .colab-df-convert {\n",
              "      background-color: #E8F0FE;\n",
              "      border: none;\n",
              "      border-radius: 50%;\n",
              "      cursor: pointer;\n",
              "      display: none;\n",
              "      fill: #1967D2;\n",
              "      height: 32px;\n",
              "      padding: 0 0 0 0;\n",
              "      width: 32px;\n",
              "    }\n",
              "\n",
              "    .colab-df-convert:hover {\n",
              "      background-color: #E2EBFA;\n",
              "      box-shadow: 0px 1px 2px rgba(60, 64, 67, 0.3), 0px 1px 3px 1px rgba(60, 64, 67, 0.15);\n",
              "      fill: #174EA6;\n",
              "    }\n",
              "\n",
              "    [theme=dark] .colab-df-convert {\n",
              "      background-color: #3B4455;\n",
              "      fill: #D2E3FC;\n",
              "    }\n",
              "\n",
              "    [theme=dark] .colab-df-convert:hover {\n",
              "      background-color: #434B5C;\n",
              "      box-shadow: 0px 1px 3px 1px rgba(0, 0, 0, 0.15);\n",
              "      filter: drop-shadow(0px 1px 2px rgba(0, 0, 0, 0.3));\n",
              "      fill: #FFFFFF;\n",
              "    }\n",
              "  </style>\n",
              "\n",
              "      <script>\n",
              "        const buttonEl =\n",
              "          document.querySelector('#df-e46326fb-0e22-4cf6-a12d-59c3584b3530 button.colab-df-convert');\n",
              "        buttonEl.style.display =\n",
              "          google.colab.kernel.accessAllowed ? 'block' : 'none';\n",
              "\n",
              "        async function convertToInteractive(key) {\n",
              "          const element = document.querySelector('#df-e46326fb-0e22-4cf6-a12d-59c3584b3530');\n",
              "          const dataTable =\n",
              "            await google.colab.kernel.invokeFunction('convertToInteractive',\n",
              "                                                     [key], {});\n",
              "          if (!dataTable) return;\n",
              "\n",
              "          const docLinkHtml = 'Like what you see? Visit the ' +\n",
              "            '<a target=\"_blank\" href=https://colab.research.google.com/notebooks/data_table.ipynb>data table notebook</a>'\n",
              "            + ' to learn more about interactive tables.';\n",
              "          element.innerHTML = '';\n",
              "          dataTable['output_type'] = 'display_data';\n",
              "          await google.colab.output.renderOutput(dataTable, element);\n",
              "          const docLink = document.createElement('div');\n",
              "          docLink.innerHTML = docLinkHtml;\n",
              "          element.appendChild(docLink);\n",
              "        }\n",
              "      </script>\n",
              "    </div>\n",
              "  </div>\n"
            ]
          },
          "metadata": {},
          "execution_count": 5
        }
      ],
      "source": [
        "heart.head()"
      ]
    },
    {
      "cell_type": "markdown",
      "id": "af20b3f0",
      "metadata": {
        "papermill": {
          "duration": 0.011262,
          "end_time": "2023-07-30T21:18:17.672004",
          "exception": false,
          "start_time": "2023-07-30T21:18:17.660742",
          "status": "completed"
        },
        "tags": [],
        "id": "af20b3f0"
      },
      "source": [
        "* Checking for missing and null values"
      ]
    },
    {
      "cell_type": "code",
      "execution_count": 6,
      "id": "95da6aa7",
      "metadata": {
        "execution": {
          "iopub.execute_input": "2023-07-30T21:18:17.697327Z",
          "iopub.status.busy": "2023-07-30T21:18:17.696630Z",
          "iopub.status.idle": "2023-07-30T21:18:17.722864Z",
          "shell.execute_reply": "2023-07-30T21:18:17.721784Z"
        },
        "papermill": {
          "duration": 0.041451,
          "end_time": "2023-07-30T21:18:17.724974",
          "exception": false,
          "start_time": "2023-07-30T21:18:17.683523",
          "status": "completed"
        },
        "tags": [],
        "colab": {
          "base_uri": "https://localhost:8080/"
        },
        "id": "95da6aa7",
        "outputId": "4c43cbdd-1fcf-4561-aaa2-78f2cf17b759"
      },
      "outputs": [
        {
          "output_type": "stream",
          "name": "stdout",
          "text": [
            "<class 'pandas.core.frame.DataFrame'>\n",
            "RangeIndex: 1025 entries, 0 to 1024\n",
            "Data columns (total 14 columns):\n",
            " #   Column    Non-Null Count  Dtype  \n",
            "---  ------    --------------  -----  \n",
            " 0   age       1025 non-null   int64  \n",
            " 1   sex       1025 non-null   int64  \n",
            " 2   cp        1025 non-null   int64  \n",
            " 3   trestbps  1025 non-null   int64  \n",
            " 4   chol      1025 non-null   int64  \n",
            " 5   fbs       1025 non-null   int64  \n",
            " 6   restecg   1025 non-null   int64  \n",
            " 7   thalach   1025 non-null   int64  \n",
            " 8   exang     1025 non-null   int64  \n",
            " 9   oldpeak   1025 non-null   float64\n",
            " 10  slope     1025 non-null   int64  \n",
            " 11  ca        1025 non-null   int64  \n",
            " 12  thal      1025 non-null   int64  \n",
            " 13  target    1025 non-null   int64  \n",
            "dtypes: float64(1), int64(13)\n",
            "memory usage: 112.2 KB\n"
          ]
        }
      ],
      "source": [
        "heart.info()"
      ]
    },
    {
      "cell_type": "markdown",
      "id": "6e796d86",
      "metadata": {
        "papermill": {
          "duration": 0.011198,
          "end_time": "2023-07-30T21:18:17.747796",
          "exception": false,
          "start_time": "2023-07-30T21:18:17.736598",
          "status": "completed"
        },
        "tags": [],
        "id": "6e796d86"
      },
      "source": [
        "* Train Test Split Data"
      ]
    },
    {
      "cell_type": "code",
      "execution_count": 7,
      "id": "c39e372a",
      "metadata": {
        "execution": {
          "iopub.execute_input": "2023-07-30T21:18:17.772853Z",
          "iopub.status.busy": "2023-07-30T21:18:17.772218Z",
          "iopub.status.idle": "2023-07-30T21:18:17.779589Z",
          "shell.execute_reply": "2023-07-30T21:18:17.778637Z"
        },
        "papermill": {
          "duration": 0.022431,
          "end_time": "2023-07-30T21:18:17.781795",
          "exception": false,
          "start_time": "2023-07-30T21:18:17.759364",
          "status": "completed"
        },
        "tags": [],
        "id": "c39e372a"
      },
      "outputs": [],
      "source": [
        "x=heart.iloc[:,:-1]\n",
        "y=heart.iloc[:,-1]"
      ]
    },
    {
      "cell_type": "code",
      "execution_count": 8,
      "id": "a14aebf8",
      "metadata": {
        "execution": {
          "iopub.execute_input": "2023-07-30T21:18:17.806937Z",
          "iopub.status.busy": "2023-07-30T21:18:17.806319Z",
          "iopub.status.idle": "2023-07-30T21:18:17.813144Z",
          "shell.execute_reply": "2023-07-30T21:18:17.812152Z"
        },
        "papermill": {
          "duration": 0.021861,
          "end_time": "2023-07-30T21:18:17.815322",
          "exception": false,
          "start_time": "2023-07-30T21:18:17.793461",
          "status": "completed"
        },
        "tags": [],
        "id": "a14aebf8"
      },
      "outputs": [],
      "source": [
        "from sklearn.model_selection import train_test_split\n",
        "x_train,x_test,y_train,y_test=train_test_split(x,y,test_size=0.2,random_state=42)"
      ]
    },
    {
      "cell_type": "markdown",
      "id": "42124150",
      "metadata": {
        "papermill": {
          "duration": 0.011259,
          "end_time": "2023-07-30T21:18:17.838476",
          "exception": false,
          "start_time": "2023-07-30T21:18:17.827217",
          "status": "completed"
        },
        "tags": [],
        "id": "42124150"
      },
      "source": [
        "* Standardizing"
      ]
    },
    {
      "cell_type": "code",
      "execution_count": 9,
      "id": "62fdcea1",
      "metadata": {
        "execution": {
          "iopub.execute_input": "2023-07-30T21:18:17.863355Z",
          "iopub.status.busy": "2023-07-30T21:18:17.862727Z",
          "iopub.status.idle": "2023-07-30T21:18:17.867288Z",
          "shell.execute_reply": "2023-07-30T21:18:17.866470Z"
        },
        "papermill": {
          "duration": 0.019342,
          "end_time": "2023-07-30T21:18:17.869304",
          "exception": false,
          "start_time": "2023-07-30T21:18:17.849962",
          "status": "completed"
        },
        "tags": [],
        "id": "62fdcea1"
      },
      "outputs": [],
      "source": [
        "from sklearn.preprocessing import StandardScaler\n",
        "ss=StandardScaler()"
      ]
    },
    {
      "cell_type": "code",
      "execution_count": 10,
      "id": "154b5346",
      "metadata": {
        "execution": {
          "iopub.execute_input": "2023-07-30T21:18:17.895140Z",
          "iopub.status.busy": "2023-07-30T21:18:17.894524Z",
          "iopub.status.idle": "2023-07-30T21:18:17.904936Z",
          "shell.execute_reply": "2023-07-30T21:18:17.904158Z"
        },
        "papermill": {
          "duration": 0.025934,
          "end_time": "2023-07-30T21:18:17.907164",
          "exception": false,
          "start_time": "2023-07-30T21:18:17.881230",
          "status": "completed"
        },
        "tags": [],
        "id": "154b5346"
      },
      "outputs": [],
      "source": [
        "x_train_new=ss.fit_transform(x_train)\n",
        "x_test_new=ss.transform(x_test)"
      ]
    },
    {
      "cell_type": "markdown",
      "id": "6a7956fe",
      "metadata": {
        "papermill": {
          "duration": 0.01156,
          "end_time": "2023-07-30T21:18:17.930307",
          "exception": false,
          "start_time": "2023-07-30T21:18:17.918747",
          "status": "completed"
        },
        "tags": [],
        "id": "6a7956fe"
      },
      "source": [
        "## 2. Exploratory Data Analysis (EDA)"
      ]
    },
    {
      "cell_type": "code",
      "execution_count": 11,
      "id": "99ecef42",
      "metadata": {
        "execution": {
          "iopub.execute_input": "2023-07-30T21:18:17.955258Z",
          "iopub.status.busy": "2023-07-30T21:18:17.954845Z",
          "iopub.status.idle": "2023-07-30T21:18:18.008465Z",
          "shell.execute_reply": "2023-07-30T21:18:18.007348Z"
        },
        "papermill": {
          "duration": 0.069206,
          "end_time": "2023-07-30T21:18:18.010951",
          "exception": false,
          "start_time": "2023-07-30T21:18:17.941745",
          "status": "completed"
        },
        "tags": [],
        "colab": {
          "base_uri": "https://localhost:8080/",
          "height": 344
        },
        "id": "99ecef42",
        "outputId": "121db36a-ca61-4eb5-9fb4-d9f60e31c49b"
      },
      "outputs": [
        {
          "output_type": "execute_result",
          "data": {
            "text/plain": [
              "               age          sex           cp     trestbps        chol  \\\n",
              "count  1025.000000  1025.000000  1025.000000  1025.000000  1025.00000   \n",
              "mean     54.434146     0.695610     0.942439   131.611707   246.00000   \n",
              "std       9.072290     0.460373     1.029641    17.516718    51.59251   \n",
              "min      29.000000     0.000000     0.000000    94.000000   126.00000   \n",
              "25%      48.000000     0.000000     0.000000   120.000000   211.00000   \n",
              "50%      56.000000     1.000000     1.000000   130.000000   240.00000   \n",
              "75%      61.000000     1.000000     2.000000   140.000000   275.00000   \n",
              "max      77.000000     1.000000     3.000000   200.000000   564.00000   \n",
              "\n",
              "               fbs      restecg      thalach        exang      oldpeak  \\\n",
              "count  1025.000000  1025.000000  1025.000000  1025.000000  1025.000000   \n",
              "mean      0.149268     0.529756   149.114146     0.336585     1.071512   \n",
              "std       0.356527     0.527878    23.005724     0.472772     1.175053   \n",
              "min       0.000000     0.000000    71.000000     0.000000     0.000000   \n",
              "25%       0.000000     0.000000   132.000000     0.000000     0.000000   \n",
              "50%       0.000000     1.000000   152.000000     0.000000     0.800000   \n",
              "75%       0.000000     1.000000   166.000000     1.000000     1.800000   \n",
              "max       1.000000     2.000000   202.000000     1.000000     6.200000   \n",
              "\n",
              "             slope           ca         thal       target  \n",
              "count  1025.000000  1025.000000  1025.000000  1025.000000  \n",
              "mean      1.385366     0.754146     2.323902     0.513171  \n",
              "std       0.617755     1.030798     0.620660     0.500070  \n",
              "min       0.000000     0.000000     0.000000     0.000000  \n",
              "25%       1.000000     0.000000     2.000000     0.000000  \n",
              "50%       1.000000     0.000000     2.000000     1.000000  \n",
              "75%       2.000000     1.000000     3.000000     1.000000  \n",
              "max       2.000000     4.000000     3.000000     1.000000  "
            ],
            "text/html": [
              "\n",
              "\n",
              "  <div id=\"df-2c9a4106-efda-41e2-bfd9-155c9b448cec\">\n",
              "    <div class=\"colab-df-container\">\n",
              "      <div>\n",
              "<style scoped>\n",
              "    .dataframe tbody tr th:only-of-type {\n",
              "        vertical-align: middle;\n",
              "    }\n",
              "\n",
              "    .dataframe tbody tr th {\n",
              "        vertical-align: top;\n",
              "    }\n",
              "\n",
              "    .dataframe thead th {\n",
              "        text-align: right;\n",
              "    }\n",
              "</style>\n",
              "<table border=\"1\" class=\"dataframe\">\n",
              "  <thead>\n",
              "    <tr style=\"text-align: right;\">\n",
              "      <th></th>\n",
              "      <th>age</th>\n",
              "      <th>sex</th>\n",
              "      <th>cp</th>\n",
              "      <th>trestbps</th>\n",
              "      <th>chol</th>\n",
              "      <th>fbs</th>\n",
              "      <th>restecg</th>\n",
              "      <th>thalach</th>\n",
              "      <th>exang</th>\n",
              "      <th>oldpeak</th>\n",
              "      <th>slope</th>\n",
              "      <th>ca</th>\n",
              "      <th>thal</th>\n",
              "      <th>target</th>\n",
              "    </tr>\n",
              "  </thead>\n",
              "  <tbody>\n",
              "    <tr>\n",
              "      <th>count</th>\n",
              "      <td>1025.000000</td>\n",
              "      <td>1025.000000</td>\n",
              "      <td>1025.000000</td>\n",
              "      <td>1025.000000</td>\n",
              "      <td>1025.00000</td>\n",
              "      <td>1025.000000</td>\n",
              "      <td>1025.000000</td>\n",
              "      <td>1025.000000</td>\n",
              "      <td>1025.000000</td>\n",
              "      <td>1025.000000</td>\n",
              "      <td>1025.000000</td>\n",
              "      <td>1025.000000</td>\n",
              "      <td>1025.000000</td>\n",
              "      <td>1025.000000</td>\n",
              "    </tr>\n",
              "    <tr>\n",
              "      <th>mean</th>\n",
              "      <td>54.434146</td>\n",
              "      <td>0.695610</td>\n",
              "      <td>0.942439</td>\n",
              "      <td>131.611707</td>\n",
              "      <td>246.00000</td>\n",
              "      <td>0.149268</td>\n",
              "      <td>0.529756</td>\n",
              "      <td>149.114146</td>\n",
              "      <td>0.336585</td>\n",
              "      <td>1.071512</td>\n",
              "      <td>1.385366</td>\n",
              "      <td>0.754146</td>\n",
              "      <td>2.323902</td>\n",
              "      <td>0.513171</td>\n",
              "    </tr>\n",
              "    <tr>\n",
              "      <th>std</th>\n",
              "      <td>9.072290</td>\n",
              "      <td>0.460373</td>\n",
              "      <td>1.029641</td>\n",
              "      <td>17.516718</td>\n",
              "      <td>51.59251</td>\n",
              "      <td>0.356527</td>\n",
              "      <td>0.527878</td>\n",
              "      <td>23.005724</td>\n",
              "      <td>0.472772</td>\n",
              "      <td>1.175053</td>\n",
              "      <td>0.617755</td>\n",
              "      <td>1.030798</td>\n",
              "      <td>0.620660</td>\n",
              "      <td>0.500070</td>\n",
              "    </tr>\n",
              "    <tr>\n",
              "      <th>min</th>\n",
              "      <td>29.000000</td>\n",
              "      <td>0.000000</td>\n",
              "      <td>0.000000</td>\n",
              "      <td>94.000000</td>\n",
              "      <td>126.00000</td>\n",
              "      <td>0.000000</td>\n",
              "      <td>0.000000</td>\n",
              "      <td>71.000000</td>\n",
              "      <td>0.000000</td>\n",
              "      <td>0.000000</td>\n",
              "      <td>0.000000</td>\n",
              "      <td>0.000000</td>\n",
              "      <td>0.000000</td>\n",
              "      <td>0.000000</td>\n",
              "    </tr>\n",
              "    <tr>\n",
              "      <th>25%</th>\n",
              "      <td>48.000000</td>\n",
              "      <td>0.000000</td>\n",
              "      <td>0.000000</td>\n",
              "      <td>120.000000</td>\n",
              "      <td>211.00000</td>\n",
              "      <td>0.000000</td>\n",
              "      <td>0.000000</td>\n",
              "      <td>132.000000</td>\n",
              "      <td>0.000000</td>\n",
              "      <td>0.000000</td>\n",
              "      <td>1.000000</td>\n",
              "      <td>0.000000</td>\n",
              "      <td>2.000000</td>\n",
              "      <td>0.000000</td>\n",
              "    </tr>\n",
              "    <tr>\n",
              "      <th>50%</th>\n",
              "      <td>56.000000</td>\n",
              "      <td>1.000000</td>\n",
              "      <td>1.000000</td>\n",
              "      <td>130.000000</td>\n",
              "      <td>240.00000</td>\n",
              "      <td>0.000000</td>\n",
              "      <td>1.000000</td>\n",
              "      <td>152.000000</td>\n",
              "      <td>0.000000</td>\n",
              "      <td>0.800000</td>\n",
              "      <td>1.000000</td>\n",
              "      <td>0.000000</td>\n",
              "      <td>2.000000</td>\n",
              "      <td>1.000000</td>\n",
              "    </tr>\n",
              "    <tr>\n",
              "      <th>75%</th>\n",
              "      <td>61.000000</td>\n",
              "      <td>1.000000</td>\n",
              "      <td>2.000000</td>\n",
              "      <td>140.000000</td>\n",
              "      <td>275.00000</td>\n",
              "      <td>0.000000</td>\n",
              "      <td>1.000000</td>\n",
              "      <td>166.000000</td>\n",
              "      <td>1.000000</td>\n",
              "      <td>1.800000</td>\n",
              "      <td>2.000000</td>\n",
              "      <td>1.000000</td>\n",
              "      <td>3.000000</td>\n",
              "      <td>1.000000</td>\n",
              "    </tr>\n",
              "    <tr>\n",
              "      <th>max</th>\n",
              "      <td>77.000000</td>\n",
              "      <td>1.000000</td>\n",
              "      <td>3.000000</td>\n",
              "      <td>200.000000</td>\n",
              "      <td>564.00000</td>\n",
              "      <td>1.000000</td>\n",
              "      <td>2.000000</td>\n",
              "      <td>202.000000</td>\n",
              "      <td>1.000000</td>\n",
              "      <td>6.200000</td>\n",
              "      <td>2.000000</td>\n",
              "      <td>4.000000</td>\n",
              "      <td>3.000000</td>\n",
              "      <td>1.000000</td>\n",
              "    </tr>\n",
              "  </tbody>\n",
              "</table>\n",
              "</div>\n",
              "      <button class=\"colab-df-convert\" onclick=\"convertToInteractive('df-2c9a4106-efda-41e2-bfd9-155c9b448cec')\"\n",
              "              title=\"Convert this dataframe to an interactive table.\"\n",
              "              style=\"display:none;\">\n",
              "\n",
              "  <svg xmlns=\"http://www.w3.org/2000/svg\" height=\"24px\"viewBox=\"0 0 24 24\"\n",
              "       width=\"24px\">\n",
              "    <path d=\"M0 0h24v24H0V0z\" fill=\"none\"/>\n",
              "    <path d=\"M18.56 5.44l.94 2.06.94-2.06 2.06-.94-2.06-.94-.94-2.06-.94 2.06-2.06.94zm-11 1L8.5 8.5l.94-2.06 2.06-.94-2.06-.94L8.5 2.5l-.94 2.06-2.06.94zm10 10l.94 2.06.94-2.06 2.06-.94-2.06-.94-.94-2.06-.94 2.06-2.06.94z\"/><path d=\"M17.41 7.96l-1.37-1.37c-.4-.4-.92-.59-1.43-.59-.52 0-1.04.2-1.43.59L10.3 9.45l-7.72 7.72c-.78.78-.78 2.05 0 2.83L4 21.41c.39.39.9.59 1.41.59.51 0 1.02-.2 1.41-.59l7.78-7.78 2.81-2.81c.8-.78.8-2.07 0-2.86zM5.41 20L4 18.59l7.72-7.72 1.47 1.35L5.41 20z\"/>\n",
              "  </svg>\n",
              "      </button>\n",
              "\n",
              "\n",
              "\n",
              "    <div id=\"df-17f4f04f-f842-44db-adec-99d24c242665\">\n",
              "      <button class=\"colab-df-quickchart\" onclick=\"quickchart('df-17f4f04f-f842-44db-adec-99d24c242665')\"\n",
              "              title=\"Suggest charts.\"\n",
              "              style=\"display:none;\">\n",
              "\n",
              "<svg xmlns=\"http://www.w3.org/2000/svg\" height=\"24px\"viewBox=\"0 0 24 24\"\n",
              "     width=\"24px\">\n",
              "    <g>\n",
              "        <path d=\"M19 3H5c-1.1 0-2 .9-2 2v14c0 1.1.9 2 2 2h14c1.1 0 2-.9 2-2V5c0-1.1-.9-2-2-2zM9 17H7v-7h2v7zm4 0h-2V7h2v10zm4 0h-2v-4h2v4z\"/>\n",
              "    </g>\n",
              "</svg>\n",
              "      </button>\n",
              "    </div>\n",
              "\n",
              "<style>\n",
              "  .colab-df-quickchart {\n",
              "    background-color: #E8F0FE;\n",
              "    border: none;\n",
              "    border-radius: 50%;\n",
              "    cursor: pointer;\n",
              "    display: none;\n",
              "    fill: #1967D2;\n",
              "    height: 32px;\n",
              "    padding: 0 0 0 0;\n",
              "    width: 32px;\n",
              "  }\n",
              "\n",
              "  .colab-df-quickchart:hover {\n",
              "    background-color: #E2EBFA;\n",
              "    box-shadow: 0px 1px 2px rgba(60, 64, 67, 0.3), 0px 1px 3px 1px rgba(60, 64, 67, 0.15);\n",
              "    fill: #174EA6;\n",
              "  }\n",
              "\n",
              "  [theme=dark] .colab-df-quickchart {\n",
              "    background-color: #3B4455;\n",
              "    fill: #D2E3FC;\n",
              "  }\n",
              "\n",
              "  [theme=dark] .colab-df-quickchart:hover {\n",
              "    background-color: #434B5C;\n",
              "    box-shadow: 0px 1px 3px 1px rgba(0, 0, 0, 0.15);\n",
              "    filter: drop-shadow(0px 1px 2px rgba(0, 0, 0, 0.3));\n",
              "    fill: #FFFFFF;\n",
              "  }\n",
              "</style>\n",
              "\n",
              "    <script>\n",
              "      async function quickchart(key) {\n",
              "        const containerElement = document.querySelector('#' + key);\n",
              "        const charts = await google.colab.kernel.invokeFunction(\n",
              "            'suggestCharts', [key], {});\n",
              "      }\n",
              "    </script>\n",
              "\n",
              "      <script>\n",
              "\n",
              "function displayQuickchartButton(domScope) {\n",
              "  let quickchartButtonEl =\n",
              "    domScope.querySelector('#df-17f4f04f-f842-44db-adec-99d24c242665 button.colab-df-quickchart');\n",
              "  quickchartButtonEl.style.display =\n",
              "    google.colab.kernel.accessAllowed ? 'block' : 'none';\n",
              "}\n",
              "\n",
              "        displayQuickchartButton(document);\n",
              "      </script>\n",
              "      <style>\n",
              "    .colab-df-container {\n",
              "      display:flex;\n",
              "      flex-wrap:wrap;\n",
              "      gap: 12px;\n",
              "    }\n",
              "\n",
              "    .colab-df-convert {\n",
              "      background-color: #E8F0FE;\n",
              "      border: none;\n",
              "      border-radius: 50%;\n",
              "      cursor: pointer;\n",
              "      display: none;\n",
              "      fill: #1967D2;\n",
              "      height: 32px;\n",
              "      padding: 0 0 0 0;\n",
              "      width: 32px;\n",
              "    }\n",
              "\n",
              "    .colab-df-convert:hover {\n",
              "      background-color: #E2EBFA;\n",
              "      box-shadow: 0px 1px 2px rgba(60, 64, 67, 0.3), 0px 1px 3px 1px rgba(60, 64, 67, 0.15);\n",
              "      fill: #174EA6;\n",
              "    }\n",
              "\n",
              "    [theme=dark] .colab-df-convert {\n",
              "      background-color: #3B4455;\n",
              "      fill: #D2E3FC;\n",
              "    }\n",
              "\n",
              "    [theme=dark] .colab-df-convert:hover {\n",
              "      background-color: #434B5C;\n",
              "      box-shadow: 0px 1px 3px 1px rgba(0, 0, 0, 0.15);\n",
              "      filter: drop-shadow(0px 1px 2px rgba(0, 0, 0, 0.3));\n",
              "      fill: #FFFFFF;\n",
              "    }\n",
              "  </style>\n",
              "\n",
              "      <script>\n",
              "        const buttonEl =\n",
              "          document.querySelector('#df-2c9a4106-efda-41e2-bfd9-155c9b448cec button.colab-df-convert');\n",
              "        buttonEl.style.display =\n",
              "          google.colab.kernel.accessAllowed ? 'block' : 'none';\n",
              "\n",
              "        async function convertToInteractive(key) {\n",
              "          const element = document.querySelector('#df-2c9a4106-efda-41e2-bfd9-155c9b448cec');\n",
              "          const dataTable =\n",
              "            await google.colab.kernel.invokeFunction('convertToInteractive',\n",
              "                                                     [key], {});\n",
              "          if (!dataTable) return;\n",
              "\n",
              "          const docLinkHtml = 'Like what you see? Visit the ' +\n",
              "            '<a target=\"_blank\" href=https://colab.research.google.com/notebooks/data_table.ipynb>data table notebook</a>'\n",
              "            + ' to learn more about interactive tables.';\n",
              "          element.innerHTML = '';\n",
              "          dataTable['output_type'] = 'display_data';\n",
              "          await google.colab.output.renderOutput(dataTable, element);\n",
              "          const docLink = document.createElement('div');\n",
              "          docLink.innerHTML = docLinkHtml;\n",
              "          element.appendChild(docLink);\n",
              "        }\n",
              "      </script>\n",
              "    </div>\n",
              "  </div>\n"
            ]
          },
          "metadata": {},
          "execution_count": 11
        }
      ],
      "source": [
        "heart.describe()"
      ]
    },
    {
      "cell_type": "code",
      "execution_count": 12,
      "id": "d3f8dffe",
      "metadata": {
        "execution": {
          "iopub.execute_input": "2023-07-30T21:18:18.037020Z",
          "iopub.status.busy": "2023-07-30T21:18:18.036673Z",
          "iopub.status.idle": "2023-07-30T21:18:18.291466Z",
          "shell.execute_reply": "2023-07-30T21:18:18.290454Z"
        },
        "papermill": {
          "duration": 0.270324,
          "end_time": "2023-07-30T21:18:18.293691",
          "exception": false,
          "start_time": "2023-07-30T21:18:18.023367",
          "status": "completed"
        },
        "tags": [],
        "colab": {
          "base_uri": "https://localhost:8080/",
          "height": 442
        },
        "id": "d3f8dffe",
        "outputId": "59d278e6-07fa-477e-e8c5-d1159c210963"
      },
      "outputs": [
        {
          "output_type": "execute_result",
          "data": {
            "text/plain": [
              "<Axes: >"
            ]
          },
          "metadata": {},
          "execution_count": 12
        },
        {
          "output_type": "display_data",
          "data": {
            "text/plain": [
              "<Figure size 640x480 with 1 Axes>"
            ],
            "image/png": "[encoded data removed]"
          },
          "metadata": {}
        }
      ],
      "source": [
        "import seaborn as sns\n",
        "heart['cp'].value_counts().plot.bar()"
      ]
    },
    {
      "cell_type": "code",
      "execution_count": 13,
      "id": "ba3f4b25",
      "metadata": {
        "execution": {
          "iopub.execute_input": "2023-07-30T21:18:18.320987Z",
          "iopub.status.busy": "2023-07-30T21:18:18.320109Z",
          "iopub.status.idle": "2023-07-30T21:18:18.603552Z",
          "shell.execute_reply": "2023-07-30T21:18:18.602609Z"
        },
        "papermill": {
          "duration": 0.299694,
          "end_time": "2023-07-30T21:18:18.605835",
          "exception": false,
          "start_time": "2023-07-30T21:18:18.306141",
          "status": "completed"
        },
        "tags": [],
        "colab": {
          "base_uri": "https://localhost:8080/",
          "height": 466
        },
        "id": "ba3f4b25",
        "outputId": "91ee5c7b-19e1-4509-9af9-bd333d209054"
      },
      "outputs": [
        {
          "output_type": "execute_result",
          "data": {
            "text/plain": [
              "<Axes: xlabel='cp', ylabel='count'>"
            ]
          },
          "metadata": {},
          "execution_count": 13
        },
        {
          "output_type": "display_data",
          "data": {
            "text/plain": [
              "<Figure size 640x480 with 1 Axes>"
            ],
            "image/png": "[encoded data removed]"
          },
          "metadata": {}
        }
      ],
      "source": [
        "sns.countplot(x=heart['cp'],hue=heart['sex'])"
      ]
    },
    {
      "cell_type": "code",
      "execution_count": 14,
      "id": "5a00b4d1",
      "metadata": {
        "execution": {
          "iopub.execute_input": "2023-07-30T21:18:18.632822Z",
          "iopub.status.busy": "2023-07-30T21:18:18.632457Z",
          "iopub.status.idle": "2023-07-30T21:18:18.926389Z",
          "shell.execute_reply": "2023-07-30T21:18:18.925247Z"
        },
        "papermill": {
          "duration": 0.310181,
          "end_time": "2023-07-30T21:18:18.928823",
          "exception": false,
          "start_time": "2023-07-30T21:18:18.618642",
          "status": "completed"
        },
        "tags": [],
        "colab": {
          "base_uri": "https://localhost:8080/",
          "height": 447
        },
        "id": "5a00b4d1",
        "outputId": "8b8bb3b7-e6c5-48ac-a1e6-9e7d29e82fc2"
      },
      "outputs": [
        {
          "output_type": "execute_result",
          "data": {
            "text/plain": [
              "<Axes: ylabel='Frequency'>"
            ]
          },
          "metadata": {},
          "execution_count": 14
        },
        {
          "output_type": "display_data",
          "data": {
            "text/plain": [
              "<Figure size 640x480 with 1 Axes>"
            ],
            "image/png": "[encoded data removed]"
          },
          "metadata": {}
        }
      ],
      "source": [
        "heart['age'].value_counts().plot.hist()"
      ]
    },
    {
      "cell_type": "code",
      "execution_count": 15,
      "id": "d0003a2b",
      "metadata": {
        "execution": {
          "iopub.execute_input": "2023-07-30T21:18:18.958017Z",
          "iopub.status.busy": "2023-07-30T21:18:18.957633Z",
          "iopub.status.idle": "2023-07-30T21:18:19.260355Z",
          "shell.execute_reply": "2023-07-30T21:18:19.259257Z"
        },
        "papermill": {
          "duration": 0.320505,
          "end_time": "2023-07-30T21:18:19.262543",
          "exception": false,
          "start_time": "2023-07-30T21:18:18.942038",
          "status": "completed"
        },
        "tags": [],
        "colab": {
          "base_uri": "https://localhost:8080/",
          "height": 466
        },
        "id": "d0003a2b",
        "outputId": "079d0ab4-09b7-480d-af28-b79441c866a9"
      },
      "outputs": [
        {
          "output_type": "execute_result",
          "data": {
            "text/plain": [
              "<Axes: xlabel='age', ylabel='Count'>"
            ]
          },
          "metadata": {},
          "execution_count": 15
        },
        {
          "output_type": "display_data",
          "data": {
            "text/plain": [
              "<Figure size 640x480 with 1 Axes>"
            ],
            "image/png": "[encoded data removed]"
          },
          "metadata": {}
        }
      ],
      "source": [
        "sns.histplot(heart['age'],kde='true')"
      ]
    },
    {
      "cell_type": "code",
      "execution_count": 16,
      "id": "07d3d169",
      "metadata": {
        "execution": {
          "iopub.execute_input": "2023-07-30T21:18:19.291729Z",
          "iopub.status.busy": "2023-07-30T21:18:19.290835Z",
          "iopub.status.idle": "2023-07-30T21:18:19.563858Z",
          "shell.execute_reply": "2023-07-30T21:18:19.562276Z"
        },
        "papermill": {
          "duration": 0.29097,
          "end_time": "2023-07-30T21:18:19.567025",
          "exception": false,
          "start_time": "2023-07-30T21:18:19.276055",
          "status": "completed"
        },
        "tags": [],
        "colab": {
          "base_uri": "https://localhost:8080/",
          "height": 467
        },
        "id": "07d3d169",
        "outputId": "25744ff8-a83d-419e-fcc0-ed0ac0bff988"
      },
      "outputs": [
        {
          "output_type": "execute_result",
          "data": {
            "text/plain": [
              "<Axes: xlabel='sex', ylabel='Density'>"
            ]
          },
          "metadata": {},
          "execution_count": 16
        },
        {
          "output_type": "display_data",
          "data": {
            "text/plain": [
              "<Figure size 640x480 with 1 Axes>"
            ],
            "image/png": "[encoded data removed]"
          },
          "metadata": {}
        }
      ],
      "source": [
        "sns.kdeplot(heart['sex'])"
      ]
    },
    {
      "cell_type": "code",
      "execution_count": 17,
      "id": "9f5b6a74",
      "metadata": {
        "execution": {
          "iopub.execute_input": "2023-07-30T21:18:19.598185Z",
          "iopub.status.busy": "2023-07-30T21:18:19.597212Z",
          "iopub.status.idle": "2023-07-30T21:18:20.504695Z",
          "shell.execute_reply": "2023-07-30T21:18:20.503586Z"
        },
        "papermill": {
          "duration": 0.925375,
          "end_time": "2023-07-30T21:18:20.507059",
          "exception": false,
          "start_time": "2023-07-30T21:18:19.581684",
          "status": "completed"
        },
        "tags": [],
        "colab": {
          "base_uri": "https://localhost:8080/",
          "height": 1000
        },
        "id": "9f5b6a74",
        "outputId": "6753dc51-b80c-4023-eaf2-e9955163d6a8"
      },
      "outputs": [
        {
          "output_type": "execute_result",
          "data": {
            "text/plain": [
              "<Axes: >"
            ]
          },
          "metadata": {},
          "execution_count": 17
        },
        {
          "output_type": "display_data",
          "data": {
            "text/plain": [
              "<Figure size 2000x2000 with 2 Axes>"
            ],
            "image/png": "[encoded data removed]"
          },
          "metadata": {}
        }
      ],
      "source": [
        "import matplotlib.pyplot as plt\n",
        "plt.figure(figsize=(20,20))\n",
        "sns.heatmap(heart.describe(),annot=True)"
      ]
    },
    {
      "cell_type": "markdown",
      "id": "e15a16ba",
      "metadata": {
        "papermill": {
          "duration": 0.016856,
          "end_time": "2023-07-30T21:18:20.541234",
          "exception": false,
          "start_time": "2023-07-30T21:18:20.524378",
          "status": "completed"
        },
        "tags": [],
        "id": "e15a16ba"
      },
      "source": [
        "##  **3. Model Implimentation**"
      ]
    },
    {
      "cell_type": "markdown",
      "id": "71a1bb01",
      "metadata": {
        "papermill": {
          "duration": 0.015353,
          "end_time": "2023-07-30T21:18:20.572278",
          "exception": false,
          "start_time": "2023-07-30T21:18:20.556925",
          "status": "completed"
        },
        "tags": [],
        "id": "71a1bb01"
      },
      "source": [
        "* **KNN ( K-Nearest Neighbors )**"
      ]
    },
    {
      "cell_type": "code",
      "execution_count": 18,
      "id": "88876c66",
      "metadata": {
        "execution": {
          "iopub.execute_input": "2023-07-30T21:18:20.605964Z",
          "iopub.status.busy": "2023-07-30T21:18:20.605545Z",
          "iopub.status.idle": "2023-07-30T21:18:20.623894Z",
          "shell.execute_reply": "2023-07-30T21:18:20.622656Z"
        },
        "papermill": {
          "duration": 0.038194,
          "end_time": "2023-07-30T21:18:20.626455",
          "exception": false,
          "start_time": "2023-07-30T21:18:20.588261",
          "status": "completed"
        },
        "tags": [],
        "id": "88876c66"
      },
      "outputs": [],
      "source": [
        "knn=KNeighborsClassifier(n_neighbors=5)\n",
        "knn.fit(x_train_new,y_train)\n",
        "y_pred1 = knn.predict(x_test_new)"
      ]
    },
    {
      "cell_type": "markdown",
      "id": "4af8bee7",
      "metadata": {
        "papermill": {
          "duration": 0.015193,
          "end_time": "2023-07-30T21:18:20.657769",
          "exception": false,
          "start_time": "2023-07-30T21:18:20.642576",
          "status": "completed"
        },
        "tags": [],
        "id": "4af8bee7"
      },
      "source": [
        "* **Decision Tree Classifier**"
      ]
    },
    {
      "cell_type": "code",
      "execution_count": 19,
      "id": "c5f7622e",
      "metadata": {
        "execution": {
          "iopub.execute_input": "2023-07-30T21:18:20.691780Z",
          "iopub.status.busy": "2023-07-30T21:18:20.691421Z",
          "iopub.status.idle": "2023-07-30T21:18:20.700898Z",
          "shell.execute_reply": "2023-07-30T21:18:20.700016Z"
        },
        "papermill": {
          "duration": 0.029704,
          "end_time": "2023-07-30T21:18:20.703052",
          "exception": false,
          "start_time": "2023-07-30T21:18:20.673348",
          "status": "completed"
        },
        "tags": [],
        "id": "c5f7622e"
      },
      "outputs": [],
      "source": [
        "dtree=DecisionTreeClassifier(random_state=42, max_depth=6)\n",
        "dtree.fit(x_train_new,y_train)\n",
        "y_pred2=dtree.predict(x_test_new)"
      ]
    },
    {
      "cell_type": "markdown",
      "id": "ab50c874",
      "metadata": {
        "papermill": {
          "duration": 0.015345,
          "end_time": "2023-07-30T21:18:20.734571",
          "exception": false,
          "start_time": "2023-07-30T21:18:20.719226",
          "status": "completed"
        },
        "tags": [],
        "id": "ab50c874"
      },
      "source": [
        "* **Naive Bayes**"
      ]
    },
    {
      "cell_type": "code",
      "execution_count": 20,
      "id": "cfad1918",
      "metadata": {
        "execution": {
          "iopub.execute_input": "2023-07-30T21:18:20.768513Z",
          "iopub.status.busy": "2023-07-30T21:18:20.767817Z",
          "iopub.status.idle": "2023-07-30T21:18:20.773993Z",
          "shell.execute_reply": "2023-07-30T21:18:20.773151Z"
        },
        "papermill": {
          "duration": 0.025466,
          "end_time": "2023-07-30T21:18:20.776222",
          "exception": false,
          "start_time": "2023-07-30T21:18:20.750756",
          "status": "completed"
        },
        "tags": [],
        "id": "cfad1918"
      },
      "outputs": [],
      "source": [
        "g=GaussianNB()\n",
        "g.fit(x_train_new,y_train)\n",
        "y_pred3 = g.predict(x_test_new)"
      ]
    },
    {
      "cell_type": "markdown",
      "id": "5811a6ce",
      "metadata": {
        "papermill": {
          "duration": 0.01633,
          "end_time": "2023-07-30T21:18:20.808980",
          "exception": false,
          "start_time": "2023-07-30T21:18:20.792650",
          "status": "completed"
        },
        "tags": [],
        "id": "5811a6ce"
      },
      "source": [
        "## 4. **Model Evaluation**"
      ]
    },
    {
      "cell_type": "markdown",
      "id": "1943623a",
      "metadata": {
        "papermill": {
          "duration": 0.015661,
          "end_time": "2023-07-30T21:18:20.841362",
          "exception": false,
          "start_time": "2023-07-30T21:18:20.825701",
          "status": "completed"
        },
        "tags": [],
        "id": "1943623a"
      },
      "source": [
        "* **Accuracy Details of K-Nearest Neighbors ( KNN )**"
      ]
    },
    {
      "cell_type": "code",
      "execution_count": 21,
      "id": "1ce344e6",
      "metadata": {
        "execution": {
          "iopub.execute_input": "2023-07-30T21:18:20.874896Z",
          "iopub.status.busy": "2023-07-30T21:18:20.874128Z",
          "iopub.status.idle": "2023-07-30T21:18:21.048244Z",
          "shell.execute_reply": "2023-07-30T21:18:21.047254Z"
        },
        "papermill": {
          "duration": 0.193218,
          "end_time": "2023-07-30T21:18:21.050501",
          "exception": false,
          "start_time": "2023-07-30T21:18:20.857283",
          "status": "completed"
        },
        "tags": [],
        "colab": {
          "base_uri": "https://localhost:8080/"
        },
        "id": "1ce344e6",
        "outputId": "a7f0e746-8cc6-4dea-bab1-0a2201897ee5"
      },
      "outputs": [
        {
          "output_type": "stream",
          "name": "stdout",
          "text": [
            "KNN Accuracy: 83 %\n",
            "KNN Precision: 0.83869918699187\n",
            "KNN Recall: 0.8341463414634146\n",
            "KNN F1 score: 0.8335281942268965\n",
            "Confusion Matrix\n",
            "[[79 23]\n",
            " [11 92]]\n"
          ]
        }
      ],
      "source": [
        "accuracy = accuracy_score(y_test, y_pred1)\n",
        "precision = precision_score(y_test,y_pred1,average = \"weighted\")\n",
        "recall = recall_score(y_test,y_pred1,average = \"weighted\")\n",
        "f1 = f1_score(y_test,y_pred1,average = \"weighted\")\n",
        "conf_matrix = confusion_matrix(y_test,y_pred1)\n",
        "\n",
        "print(\"KNN Accuracy:\", int(100*accuracy),\"%\")\n",
        "print(\"KNN Precision:\", precision)\n",
        "print(\"KNN Recall:\", recall)\n",
        "print(\"KNN F1 score:\", f1)\n",
        "print(\"Confusion Matrix\")\n",
        "print(conf_matrix)"
      ]
    },
    {
      "cell_type": "markdown",
      "id": "dce4d6ca",
      "metadata": {
        "papermill": {
          "duration": 0.0158,
          "end_time": "2023-07-30T21:18:21.082662",
          "exception": false,
          "start_time": "2023-07-30T21:18:21.066862",
          "status": "completed"
        },
        "tags": [],
        "id": "dce4d6ca"
      },
      "source": [
        "* **Accuracy Details of Decision Tree Classifier**"
      ]
    },
    {
      "cell_type": "code",
      "execution_count": 22,
      "id": "8efcdaae",
      "metadata": {
        "execution": {
          "iopub.execute_input": "2023-07-30T21:18:21.117263Z",
          "iopub.status.busy": "2023-07-30T21:18:21.116589Z",
          "iopub.status.idle": "2023-07-30T21:18:21.135107Z",
          "shell.execute_reply": "2023-07-30T21:18:21.133286Z"
        },
        "papermill": {
          "duration": 0.038615,
          "end_time": "2023-07-30T21:18:21.137715",
          "exception": false,
          "start_time": "2023-07-30T21:18:21.099100",
          "status": "completed"
        },
        "tags": [],
        "colab": {
          "base_uri": "https://localhost:8080/"
        },
        "id": "8efcdaae",
        "outputId": "f50b2155-1df8-445e-ed0a-440393b8aab8"
      },
      "outputs": [
        {
          "output_type": "stream",
          "name": "stdout",
          "text": [
            "Decision Tree Classifier Prediction details: \n",
            "\n",
            "Accuracy Score  : 88 %\n",
            "Precision Score : 0.8901368279417059\n",
            "Recall Score    : 0.8829268292682927\n",
            "  f1 Score      : 0.882338662621076\n",
            "Confusion Matrix:\n",
            " [[83 19]\n",
            " [ 5 98]]\n"
          ]
        }
      ],
      "source": [
        "accuracy = accuracy_score(y_test, y_pred2)\n",
        "precision = precision_score(y_test,y_pred2,average = \"weighted\")\n",
        "recall = recall_score(y_test,y_pred2,average = \"weighted\")\n",
        "f1 = f1_score(y_test,y_pred2,average = \"weighted\")\n",
        "conf_matrix = confusion_matrix(y_test,y_pred2)\n",
        "\n",
        "print(\"Decision Tree Classifier Prediction details: \\n\")\n",
        "print(\"Accuracy Score  :\",int(100*accuracy),\"%\")\n",
        "print(\"Precision Score :\",precision)\n",
        "print(\"Recall Score    :\",recall)\n",
        "print(\"  f1 Score      :\",f1)\n",
        "print(\"Confusion Matrix:\\n\",conf_matrix)"
      ]
    },
    {
      "cell_type": "markdown",
      "id": "2ab412b1",
      "metadata": {
        "papermill": {
          "duration": 0.016471,
          "end_time": "2023-07-30T21:18:21.171546",
          "exception": false,
          "start_time": "2023-07-30T21:18:21.155075",
          "status": "completed"
        },
        "tags": [],
        "id": "2ab412b1"
      },
      "source": [
        "* **Accuracy Details of Naive Bayes**"
      ]
    },
    {
      "cell_type": "code",
      "execution_count": 23,
      "id": "f046e8d9",
      "metadata": {
        "execution": {
          "iopub.execute_input": "2023-07-30T21:18:21.205480Z",
          "iopub.status.busy": "2023-07-30T21:18:21.204815Z",
          "iopub.status.idle": "2023-07-30T21:18:21.221137Z",
          "shell.execute_reply": "2023-07-30T21:18:21.219744Z"
        },
        "papermill": {
          "duration": 0.035475,
          "end_time": "2023-07-30T21:18:21.223222",
          "exception": false,
          "start_time": "2023-07-30T21:18:21.187747",
          "status": "completed"
        },
        "tags": [],
        "colab": {
          "base_uri": "https://localhost:8080/"
        },
        "id": "f046e8d9",
        "outputId": "dc00073a-c2d9-423c-d83b-78e2652c52f7"
      },
      "outputs": [
        {
          "output_type": "stream",
          "name": "stdout",
          "text": [
            "GNB Accuracy: 80 %\n",
            "GNB Precision: 0.8105076041872408\n",
            "GNB Recall: 0.8\n",
            "GNB F1 score: 0.798174174174174\n",
            "Confusion Matrix\n",
            "[[72 30]\n",
            " [11 92]]\n"
          ]
        }
      ],
      "source": [
        "accuracy = accuracy_score(y_test, y_pred3)\n",
        "precision = precision_score(y_test,y_pred3,average = \"weighted\")\n",
        "recall = recall_score(y_test,y_pred3,average = \"weighted\")\n",
        "f1 = f1_score(y_test,y_pred3,average = \"weighted\")\n",
        "conf_matrix = confusion_matrix(y_test,y_pred3)\n",
        "\n",
        "print(\"GNB Accuracy:\", int(100*accuracy),\"%\")\n",
        "print(\"GNB Precision:\", precision)\n",
        "print(\"GNB Recall:\", recall)\n",
        "print(\"GNB F1 score:\", f1)\n",
        "print(\"Confusion Matrix\")\n",
        "print(conf_matrix)"
      ]
    },
    {
      "cell_type": "markdown",
      "id": "0ec0cfc3",
      "metadata": {
        "papermill": {
          "duration": 0.016205,
          "end_time": "2023-07-30T21:18:21.255742",
          "exception": false,
          "start_time": "2023-07-30T21:18:21.239537",
          "status": "completed"
        },
        "tags": [],
        "id": "0ec0cfc3"
      },
      "source": [
        "* **Total Accuracy details**"
      ]
    },
    {
      "cell_type": "code",
      "execution_count": 24,
      "id": "ad6b7ae7",
      "metadata": {
        "execution": {
          "iopub.execute_input": "2023-07-30T21:18:21.290873Z",
          "iopub.status.busy": "2023-07-30T21:18:21.290510Z",
          "iopub.status.idle": "2023-07-30T21:18:21.301741Z",
          "shell.execute_reply": "2023-07-30T21:18:21.300793Z"
        },
        "papermill": {
          "duration": 0.031605,
          "end_time": "2023-07-30T21:18:21.303943",
          "exception": false,
          "start_time": "2023-07-30T21:18:21.272338",
          "status": "completed"
        },
        "tags": [],
        "id": "ad6b7ae7"
      },
      "outputs": [],
      "source": [
        "result=pd.DataFrame({'Model':['K-Nearest Neighbors','Decision Tree Classifier','Naive Bayes'],'Accuracy':[recall_score(y_pred1,y_test)*100,recall_score(y_pred2,y_test)*100,recall_score(y_pred3,y_test)*100]})"
      ]
    },
    {
      "cell_type": "code",
      "execution_count": 25,
      "id": "f10f7f31",
      "metadata": {
        "execution": {
          "iopub.execute_input": "2023-07-30T21:18:21.338477Z",
          "iopub.status.busy": "2023-07-30T21:18:21.337708Z",
          "iopub.status.idle": "2023-07-30T21:18:21.348413Z",
          "shell.execute_reply": "2023-07-30T21:18:21.347049Z"
        },
        "papermill": {
          "duration": 0.030664,
          "end_time": "2023-07-30T21:18:21.350674",
          "exception": false,
          "start_time": "2023-07-30T21:18:21.320010",
          "status": "completed"
        },
        "tags": [],
        "colab": {
          "base_uri": "https://localhost:8080/",
          "height": 143
        },
        "id": "f10f7f31",
        "outputId": "097ddec6-bd2c-40b3-e496-1187caad01c5"
      },
      "outputs": [
        {
          "output_type": "execute_result",
          "data": {
            "text/plain": [
              "                      Model   Accuracy\n",
              "0       K-Nearest Neighbors  80.000000\n",
              "1  Decision Tree Classifier  83.760684\n",
              "2               Naive Bayes  75.409836"
            ],
            "text/html": [
              "\n",
              "\n",
              "  <div id=\"df-349b29fe-ea40-402a-bb1c-f344551c555f\">\n",
              "    <div class=\"colab-df-container\">\n",
              "      <div>\n",
              "<style scoped>\n",
              "    .dataframe tbody tr th:only-of-type {\n",
              "        vertical-align: middle;\n",
              "    }\n",
              "\n",
              "    .dataframe tbody tr th {\n",
              "        vertical-align: top;\n",
              "    }\n",
              "\n",
              "    .dataframe thead th {\n",
              "        text-align: right;\n",
              "    }\n",
              "</style>\n",
              "<table border=\"1\" class=\"dataframe\">\n",
              "  <thead>\n",
              "    <tr style=\"text-align: right;\">\n",
              "      <th></th>\n",
              "      <th>Model</th>\n",
              "      <th>Accuracy</th>\n",
              "    </tr>\n",
              "  </thead>\n",
              "  <tbody>\n",
              "    <tr>\n",
              "      <th>0</th>\n",
              "      <td>K-Nearest Neighbors</td>\n",
              "      <td>80.000000</td>\n",
              "    </tr>\n",
              "    <tr>\n",
              "      <th>1</th>\n",
              "      <td>Decision Tree Classifier</td>\n",
              "      <td>83.760684</td>\n",
              "    </tr>\n",
              "    <tr>\n",
              "      <th>2</th>\n",
              "      <td>Naive Bayes</td>\n",
              "      <td>75.409836</td>\n",
              "    </tr>\n",
              "  </tbody>\n",
              "</table>\n",
              "</div>\n",
              "      <button class=\"colab-df-convert\" onclick=\"convertToInteractive('df-349b29fe-ea40-402a-bb1c-f344551c555f')\"\n",
              "              title=\"Convert this dataframe to an interactive table.\"\n",
              "              style=\"display:none;\">\n",
              "\n",
              "  <svg xmlns=\"http://www.w3.org/2000/svg\" height=\"24px\"viewBox=\"0 0 24 24\"\n",
              "       width=\"24px\">\n",
              "    <path d=\"M0 0h24v24H0V0z\" fill=\"none\"/>\n",
              "    <path d=\"M18.56 5.44l.94 2.06.94-2.06 2.06-.94-2.06-.94-.94-2.06-.94 2.06-2.06.94zm-11 1L8.5 8.5l.94-2.06 2.06-.94-2.06-.94L8.5 2.5l-.94 2.06-2.06.94zm10 10l.94 2.06.94-2.06 2.06-.94-2.06-.94-.94-2.06-.94 2.06-2.06.94z\"/><path d=\"M17.41 7.96l-1.37-1.37c-.4-.4-.92-.59-1.43-.59-.52 0-1.04.2-1.43.59L10.3 9.45l-7.72 7.72c-.78.78-.78 2.05 0 2.83L4 21.41c.39.39.9.59 1.41.59.51 0 1.02-.2 1.41-.59l7.78-7.78 2.81-2.81c.8-.78.8-2.07 0-2.86zM5.41 20L4 18.59l7.72-7.72 1.47 1.35L5.41 20z\"/>\n",
              "  </svg>\n",
              "      </button>\n",
              "\n",
              "\n",
              "\n",
              "    <div id=\"df-8ae56a85-20aa-4671-8af4-5022cfede337\">\n",
              "      <button class=\"colab-df-quickchart\" onclick=\"quickchart('df-8ae56a85-20aa-4671-8af4-5022cfede337')\"\n",
              "              title=\"Suggest charts.\"\n",
              "              style=\"display:none;\">\n",
              "\n",
              "<svg xmlns=\"http://www.w3.org/2000/svg\" height=\"24px\"viewBox=\"0 0 24 24\"\n",
              "     width=\"24px\">\n",
              "    <g>\n",
              "        <path d=\"M19 3H5c-1.1 0-2 .9-2 2v14c0 1.1.9 2 2 2h14c1.1 0 2-.9 2-2V5c0-1.1-.9-2-2-2zM9 17H7v-7h2v7zm4 0h-2V7h2v10zm4 0h-2v-4h2v4z\"/>\n",
              "    </g>\n",
              "</svg>\n",
              "      </button>\n",
              "    </div>\n",
              "\n",
              "<style>\n",
              "  .colab-df-quickchart {\n",
              "    background-color: #E8F0FE;\n",
              "    border: none;\n",
              "    border-radius: 50%;\n",
              "    cursor: pointer;\n",
              "    display: none;\n",
              "    fill: #1967D2;\n",
              "    height: 32px;\n",
              "    padding: 0 0 0 0;\n",
              "    width: 32px;\n",
              "  }\n",
              "\n",
              "  .colab-df-quickchart:hover {\n",
              "    background-color: #E2EBFA;\n",
              "    box-shadow: 0px 1px 2px rgba(60, 64, 67, 0.3), 0px 1px 3px 1px rgba(60, 64, 67, 0.15);\n",
              "    fill: #174EA6;\n",
              "  }\n",
              "\n",
              "  [theme=dark] .colab-df-quickchart {\n",
              "    background-color: #3B4455;\n",
              "    fill: #D2E3FC;\n",
              "  }\n",
              "\n",
              "  [theme=dark] .colab-df-quickchart:hover {\n",
              "    background-color: #434B5C;\n",
              "    box-shadow: 0px 1px 3px 1px rgba(0, 0, 0, 0.15);\n",
              "    filter: drop-shadow(0px 1px 2px rgba(0, 0, 0, 0.3));\n",
              "    fill: #FFFFFF;\n",
              "  }\n",
              "</style>\n",
              "\n",
              "    <script>\n",
              "      async function quickchart(key) {\n",
              "        const containerElement = document.querySelector('#' + key);\n",
              "        const charts = await google.colab.kernel.invokeFunction(\n",
              "            'suggestCharts', [key], {});\n",
              "      }\n",
              "    </script>\n",
              "\n",
              "      <script>\n",
              "\n",
              "function displayQuickchartButton(domScope) {\n",
              "  let quickchartButtonEl =\n",
              "    domScope.querySelector('#df-8ae56a85-20aa-4671-8af4-5022cfede337 button.colab-df-quickchart');\n",
              "  quickchartButtonEl.style.display =\n",
              "    google.colab.kernel.accessAllowed ? 'block' : 'none';\n",
              "}\n",
              "\n",
              "        displayQuickchartButton(document);\n",
              "      </script>\n",
              "      <style>\n",
              "    .colab-df-container {\n",
              "      display:flex;\n",
              "      flex-wrap:wrap;\n",
              "      gap: 12px;\n",
              "    }\n",
              "\n",
              "    .colab-df-convert {\n",
              "      background-color: #E8F0FE;\n",
              "      border: none;\n",
              "      border-radius: 50%;\n",
              "      cursor: pointer;\n",
              "      display: none;\n",
              "      fill: #1967D2;\n",
              "      height: 32px;\n",
              "      padding: 0 0 0 0;\n",
              "      width: 32px;\n",
              "    }\n",
              "\n",
              "    .colab-df-convert:hover {\n",
              "      background-color: #E2EBFA;\n",
              "      box-shadow: 0px 1px 2px rgba(60, 64, 67, 0.3), 0px 1px 3px 1px rgba(60, 64, 67, 0.15);\n",
              "      fill: #174EA6;\n",
              "    }\n",
              "\n",
              "    [theme=dark] .colab-df-convert {\n",
              "      background-color: #3B4455;\n",
              "      fill: #D2E3FC;\n",
              "    }\n",
              "\n",
              "    [theme=dark] .colab-df-convert:hover {\n",
              "      background-color: #434B5C;\n",
              "      box-shadow: 0px 1px 3px 1px rgba(0, 0, 0, 0.15);\n",
              "      filter: drop-shadow(0px 1px 2px rgba(0, 0, 0, 0.3));\n",
              "      fill: #FFFFFF;\n",
              "    }\n",
              "  </style>\n",
              "\n",
              "      <script>\n",
              "        const buttonEl =\n",
              "          document.querySelector('#df-349b29fe-ea40-402a-bb1c-f344551c555f button.colab-df-convert');\n",
              "        buttonEl.style.display =\n",
              "          google.colab.kernel.accessAllowed ? 'block' : 'none';\n",
              "\n",
              "        async function convertToInteractive(key) {\n",
              "          const element = document.querySelector('#df-349b29fe-ea40-402a-bb1c-f344551c555f');\n",
              "          const dataTable =\n",
              "            await google.colab.kernel.invokeFunction('convertToInteractive',\n",
              "                                                     [key], {});\n",
              "          if (!dataTable) return;\n",
              "\n",
              "          const docLinkHtml = 'Like what you see? Visit the ' +\n",
              "            '<a target=\"_blank\" href=https://colab.research.google.com/notebooks/data_table.ipynb>data table notebook</a>'\n",
              "            + ' to learn more about interactive tables.';\n",
              "          element.innerHTML = '';\n",
              "          dataTable['output_type'] = 'display_data';\n",
              "          await google.colab.output.renderOutput(dataTable, element);\n",
              "          const docLink = document.createElement('div');\n",
              "          docLink.innerHTML = docLinkHtml;\n",
              "          element.appendChild(docLink);\n",
              "        }\n",
              "      </script>\n",
              "    </div>\n",
              "  </div>\n"
            ]
          },
          "metadata": {},
          "execution_count": 25
        }
      ],
      "source": [
        "result"
      ]
    },
    {
      "cell_type": "markdown",
      "id": "18bc82b3",
      "metadata": {
        "papermill": {
          "duration": 0.016665,
          "end_time": "2023-07-30T21:18:21.384950",
          "exception": false,
          "start_time": "2023-07-30T21:18:21.368285",
          "status": "completed"
        },
        "tags": [],
        "id": "18bc82b3"
      },
      "source": [
        "## **5. Cross Validation**"
      ]
    },
    {
      "cell_type": "code",
      "execution_count": 26,
      "id": "452118c7",
      "metadata": {
        "execution": {
          "iopub.execute_input": "2023-07-30T21:18:21.420604Z",
          "iopub.status.busy": "2023-07-30T21:18:21.420223Z",
          "iopub.status.idle": "2023-07-30T21:18:21.424586Z",
          "shell.execute_reply": "2023-07-30T21:18:21.423505Z"
        },
        "papermill": {
          "duration": 0.024494,
          "end_time": "2023-07-30T21:18:21.426559",
          "exception": false,
          "start_time": "2023-07-30T21:18:21.402065",
          "status": "completed"
        },
        "tags": [],
        "id": "452118c7"
      },
      "outputs": [],
      "source": [
        "from sklearn.model_selection import cross_val_score"
      ]
    },
    {
      "cell_type": "markdown",
      "id": "6d54c20f",
      "metadata": {
        "papermill": {
          "duration": 0.015956,
          "end_time": "2023-07-30T21:18:21.459452",
          "exception": false,
          "start_time": "2023-07-30T21:18:21.443496",
          "status": "completed"
        },
        "tags": [],
        "id": "6d54c20f"
      },
      "source": [
        "* **Cross Validation of K-Nearest Neighbors ( KNN )**"
      ]
    },
    {
      "cell_type": "code",
      "execution_count": 27,
      "id": "7c22b57a",
      "metadata": {
        "execution": {
          "iopub.execute_input": "2023-07-30T21:18:21.494062Z",
          "iopub.status.busy": "2023-07-30T21:18:21.492932Z",
          "iopub.status.idle": "2023-07-30T21:18:21.580686Z",
          "shell.execute_reply": "2023-07-30T21:18:21.579590Z"
        },
        "papermill": {
          "duration": 0.107381,
          "end_time": "2023-07-30T21:18:21.582911",
          "exception": false,
          "start_time": "2023-07-30T21:18:21.475530",
          "status": "completed"
        },
        "tags": [],
        "colab": {
          "base_uri": "https://localhost:8080/"
        },
        "id": "7c22b57a",
        "outputId": "4de1c8ab-304a-420f-eda7-594648f2c3be"
      },
      "outputs": [
        {
          "output_type": "execute_result",
          "data": {
            "text/plain": [
              "array([0.87804878, 0.8902439 , 0.85365854, 0.82926829, 0.87804878,\n",
              "       0.86585366, 0.87804878, 0.79268293, 0.80487805, 0.7804878 ])"
            ]
          },
          "metadata": {},
          "execution_count": 27
        }
      ],
      "source": [
        "scores1 = cross_val_score(knn, x_train_new, y_train, cv=10)\n",
        "scores1"
      ]
    },
    {
      "cell_type": "markdown",
      "id": "b6d54372",
      "metadata": {
        "papermill": {
          "duration": 0.016234,
          "end_time": "2023-07-30T21:18:21.615766",
          "exception": false,
          "start_time": "2023-07-30T21:18:21.599532",
          "status": "completed"
        },
        "tags": [],
        "id": "b6d54372"
      },
      "source": [
        "* **Cross Validation of Decision Tree Classifier**"
      ]
    },
    {
      "cell_type": "code",
      "execution_count": 28,
      "id": "91f323f7",
      "metadata": {
        "execution": {
          "iopub.execute_input": "2023-07-30T21:18:21.650030Z",
          "iopub.status.busy": "2023-07-30T21:18:21.649071Z",
          "iopub.status.idle": "2023-07-30T21:18:21.699446Z",
          "shell.execute_reply": "2023-07-30T21:18:21.698259Z"
        },
        "papermill": {
          "duration": 0.069804,
          "end_time": "2023-07-30T21:18:21.701700",
          "exception": false,
          "start_time": "2023-07-30T21:18:21.631896",
          "status": "completed"
        },
        "tags": [],
        "colab": {
          "base_uri": "https://localhost:8080/"
        },
        "id": "91f323f7",
        "outputId": "25a39a78-c3e9-4fe8-c593-d437afe7d220"
      },
      "outputs": [
        {
          "output_type": "execute_result",
          "data": {
            "text/plain": [
              "array([0.92682927, 0.93902439, 0.92682927, 0.8902439 , 0.93902439,\n",
              "       0.91463415, 0.95121951, 0.97560976, 0.91463415, 0.87804878])"
            ]
          },
          "metadata": {},
          "execution_count": 28
        }
      ],
      "source": [
        "scores2 = cross_val_score(dtree, x_train_new, y_train, cv=10)\n",
        "scores2"
      ]
    },
    {
      "cell_type": "markdown",
      "id": "7c6e2606",
      "metadata": {
        "papermill": {
          "duration": 0.015813,
          "end_time": "2023-07-30T21:18:21.733872",
          "exception": false,
          "start_time": "2023-07-30T21:18:21.718059",
          "status": "completed"
        },
        "tags": [],
        "id": "7c6e2606"
      },
      "source": [
        "* **Cross Validation of Naive Bayes**"
      ]
    },
    {
      "cell_type": "code",
      "execution_count": 29,
      "id": "d9c546f6",
      "metadata": {
        "execution": {
          "iopub.execute_input": "2023-07-30T21:18:21.768369Z",
          "iopub.status.busy": "2023-07-30T21:18:21.767725Z",
          "iopub.status.idle": "2023-07-30T21:18:21.800179Z",
          "shell.execute_reply": "2023-07-30T21:18:21.798952Z"
        },
        "papermill": {
          "duration": 0.051715,
          "end_time": "2023-07-30T21:18:21.802224",
          "exception": false,
          "start_time": "2023-07-30T21:18:21.750509",
          "status": "completed"
        },
        "tags": [],
        "colab": {
          "base_uri": "https://localhost:8080/"
        },
        "id": "d9c546f6",
        "outputId": "acf45b52-f948-41f5-cf1a-81ba9d31b71a"
      },
      "outputs": [
        {
          "output_type": "execute_result",
          "data": {
            "text/plain": [
              "array([0.84146341, 0.81707317, 0.82926829, 0.79268293, 0.84146341,\n",
              "       0.82926829, 0.8902439 , 0.85365854, 0.79268293, 0.80487805])"
            ]
          },
          "metadata": {},
          "execution_count": 29
        }
      ],
      "source": [
        "scores3 = cross_val_score(g, x_train_new, y_train, cv=10)\n",
        "scores3"
      ]
    }
  ],
  "metadata": {
    "kernelspec": {
      "display_name": "Python 3",
      "language": "python",
      "name": "python3"
    },
    "language_info": {
      "codemirror_mode": {
        "name": "ipython",
        "version": 3
      },
      "file_extension": ".py",
      "mimetype": "text/x-python",
      "name": "python",
      "nbconvert_exporter": "python",
      "pygments_lexer": "ipython3",
      "version": "3.10.12"
    },
    "papermill": {
      "default_parameters": {},
      "duration": 17.165792,
      "end_time": "2023-07-30T21:18:23.205529",
      "environment_variables": {},
      "exception": null,
      "input_path": "__notebook__.ipynb",
      "output_path": "__notebook__.ipynb",
      "parameters": {},
      "start_time": "2023-07-30T21:18:06.039737",
      "version": "2.4.0"
    },
    "colab": {
      "provenance": [],
      "include_colab_link": true
    }
  },
  "nbformat": 4,
  "nbformat_minor": 5
}